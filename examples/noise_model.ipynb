{
 "cells": [
  {
   "cell_type": "code",
   "execution_count": 1,
   "id": "b894ead9",
   "metadata": {},
   "outputs": [],
   "source": [
    "#!pip install ewl"
   ]
  },
  {
   "cell_type": "code",
   "execution_count": 2,
   "id": "ceb9fbf1",
   "metadata": {},
   "outputs": [],
   "source": [
    "%matplotlib inline"
   ]
  },
  {
   "cell_type": "code",
   "execution_count": 3,
   "id": "b425a4b2",
   "metadata": {},
   "outputs": [],
   "source": [
    "from ewl import *"
   ]
  },
  {
   "cell_type": "code",
   "execution_count": 4,
   "id": "789546bb",
   "metadata": {},
   "outputs": [],
   "source": [
    "from qiskit.providers.aer.noise import NoiseModel\n",
    "from qiskit.providers.aer.noise import QuantumError, ReadoutError\n",
    "from qiskit.providers.aer.noise import pauli_error"
   ]
  },
  {
   "cell_type": "code",
   "execution_count": 5,
   "id": "70338f9d",
   "metadata": {},
   "outputs": [
    {
     "data": {
      "image/png": "[encoded data removed]",
      "text/latex": [
       "$\\displaystyle \\frac{\\sqrt{2} \\left({\\left|00\\right\\rangle } + i {\\left|11\\right\\rangle }\\right)}{2}$"
      ],
      "text/plain": [
       "√2⋅(❘00⟩ + ⅈ⋅❘11⟩)\n",
       "──────────────────\n",
       "        2         "
      ]
     },
     "execution_count": 5,
     "metadata": {},
     "output_type": "execute_result"
    }
   ],
   "source": [
    "psi = (Qubit('00') + i * Qubit('11')) / sqrt2\n",
    "psi"
   ]
  },
  {
   "cell_type": "code",
   "execution_count": 6,
   "id": "8676d993",
   "metadata": {},
   "outputs": [
    {
     "data": {
      "text/latex": [
       "$\\displaystyle \\left[\\begin{matrix}e^{i \\alpha_{1}} \\cos{\\left(\\frac{\\theta_{1}}{2} \\right)} & i e^{i \\beta_{1}} \\sin{\\left(\\frac{\\theta_{1}}{2} \\right)}\\\\i e^{- i \\beta_{1}} \\sin{\\left(\\frac{\\theta_{1}}{2} \\right)} & e^{- i \\alpha_{1}} \\cos{\\left(\\frac{\\theta_{1}}{2} \\right)}\\end{matrix}\\right]$"
      ],
      "text/plain": [
       "⎡  ⅈ⋅α₁    ⎛θ₁⎞       ⅈ⋅β₁    ⎛θ₁⎞⎤\n",
       "⎢ ℯ    ⋅cos⎜──⎟    ⅈ⋅ℯ    ⋅sin⎜──⎟⎥\n",
       "⎢          ⎝2 ⎠               ⎝2 ⎠⎥\n",
       "⎢                                 ⎥\n",
       "⎢   -ⅈ⋅β₁    ⎛θ₁⎞   -ⅈ⋅α₁    ⎛θ₁⎞ ⎥\n",
       "⎢ⅈ⋅ℯ     ⋅sin⎜──⎟  ℯ     ⋅cos⎜──⎟ ⎥\n",
       "⎣            ⎝2 ⎠            ⎝2 ⎠ ⎦"
      ]
     },
     "execution_count": 6,
     "metadata": {},
     "output_type": "execute_result"
    }
   ],
   "source": [
    "theta1, alpha1, beta1 = sp.symbols('theta1 alpha1 beta1')\n",
    "alice = U(theta=theta1, alpha=alpha1, beta=beta1)\n",
    "alice"
   ]
  },
  {
   "cell_type": "code",
   "execution_count": 7,
   "id": "fc712d67",
   "metadata": {},
   "outputs": [
    {
     "data": {
      "text/latex": [
       "$\\displaystyle \\left[\\begin{matrix}e^{i \\alpha_{2}} \\cos{\\left(\\frac{\\theta_{2}}{2} \\right)} & i e^{i \\beta_{2}} \\sin{\\left(\\frac{\\theta_{2}}{2} \\right)}\\\\i e^{- i \\beta_{2}} \\sin{\\left(\\frac{\\theta_{2}}{2} \\right)} & e^{- i \\alpha_{2}} \\cos{\\left(\\frac{\\theta_{2}}{2} \\right)}\\end{matrix}\\right]$"
      ],
      "text/plain": [
       "⎡  ⅈ⋅α₂    ⎛θ₂⎞       ⅈ⋅β₂    ⎛θ₂⎞⎤\n",
       "⎢ ℯ    ⋅cos⎜──⎟    ⅈ⋅ℯ    ⋅sin⎜──⎟⎥\n",
       "⎢          ⎝2 ⎠               ⎝2 ⎠⎥\n",
       "⎢                                 ⎥\n",
       "⎢   -ⅈ⋅β₂    ⎛θ₂⎞   -ⅈ⋅α₂    ⎛θ₂⎞ ⎥\n",
       "⎢ⅈ⋅ℯ     ⋅sin⎜──⎟  ℯ     ⋅cos⎜──⎟ ⎥\n",
       "⎣            ⎝2 ⎠            ⎝2 ⎠ ⎦"
      ]
     },
     "execution_count": 7,
     "metadata": {},
     "output_type": "execute_result"
    }
   ],
   "source": [
    "theta2, alpha2, beta2 = sp.symbols('theta2 alpha2 beta2')\n",
    "bob = U(theta=theta2, alpha=alpha2, beta=beta2)\n",
    "bob"
   ]
  },
  {
   "cell_type": "code",
   "execution_count": 8,
   "id": "5971f7a2",
   "metadata": {},
   "outputs": [
    {
     "data": {
      "text/latex": [
       "$\\displaystyle \\left[\\begin{matrix}\\left[\\begin{matrix}3 & 5\\\\0 & 1\\end{matrix}\\right] & \\left[\\begin{matrix}3 & 0\\\\5 & 1\\end{matrix}\\right]\\end{matrix}\\right]$"
      ],
      "text/plain": [
       "⎡⎡3  5⎤  ⎡3  0⎤⎤\n",
       "⎢⎢    ⎥  ⎢    ⎥⎥\n",
       "⎣⎣0  1⎦  ⎣5  1⎦⎦"
      ]
     },
     "execution_count": 8,
     "metadata": {},
     "output_type": "execute_result"
    }
   ],
   "source": [
    "payoff_matrix = Array([\n",
    "    [\n",
    "        [3, 5],\n",
    "        [0, 1],\n",
    "    ],\n",
    "    [\n",
    "        [3, 0],\n",
    "        [5, 1],\n",
    "    ],\n",
    "])\n",
    "payoff_matrix"
   ]
  },
  {
   "cell_type": "code",
   "execution_count": 9,
   "id": "37d18213",
   "metadata": {},
   "outputs": [],
   "source": [
    "p_error = 0.05\n",
    "bit_flip = pauli_error([('X', p_error), ('I', 1 - p_error)])\n",
    "phase_flip = pauli_error([('Z', p_error), ('I', 1 - p_error)])"
   ]
  },
  {
   "cell_type": "code",
   "execution_count": 10,
   "id": "433d0bda",
   "metadata": {},
   "outputs": [
    {
     "data": {
      "text/plain": [
       "<NoiseModel on ['u2', 'u3', 'x', 'u1']>"
      ]
     },
     "execution_count": 10,
     "metadata": {},
     "output_type": "execute_result"
    }
   ],
   "source": [
    "noise_model = NoiseModel()\n",
    "noise_model.add_all_qubit_quantum_error(bit_flip, ['u1', 'u2', 'u3'])\n",
    "noise_model.add_all_qubit_quantum_error(phase_flip, ['x'], [0])\n",
    "noise_model"
   ]
  },
  {
   "cell_type": "code",
   "execution_count": 11,
   "id": "6e8d279f",
   "metadata": {},
   "outputs": [
    {
     "data": {
      "text/plain": [
       "<ewl.EWL at 0x7f2964b55550>"
      ]
     },
     "execution_count": 11,
     "metadata": {},
     "output_type": "execute_result"
    }
   ],
   "source": [
    "ewl = EWL(psi, [alice, bob], payoff_matrix, noise_model)\n",
    "ewl"
   ]
  },
  {
   "cell_type": "code",
   "execution_count": 12,
   "id": "c0db3637",
   "metadata": {},
   "outputs": [],
   "source": [
    "ewl_fixed = ewl.fix(theta1=pi / 2, alpha1=pi / 2, beta1=0,\n",
    "                    theta2=0, alpha2=0, beta2=0)"
   ]
  },
  {
   "cell_type": "code",
   "execution_count": 13,
   "id": "5baafc0d",
   "metadata": {},
   "outputs": [
    {
     "name": "stdout",
     "output_type": "stream",
     "text": [
      "{'00': 92, '10': 103, '01': 432, '11': 397}\n"
     ]
    },
    {
     "data": {
      "image/png": "[encoded data removed]",
      "text/plain": [
       "<Figure size 504x360 with 1 Axes>"
      ]
     },
     "metadata": {
      "needs_background": "light"
     },
     "output_type": "display_data"
    }
   ],
   "source": [
    "counts_qasm_simulator = ewl_fixed.simulate_counts()\n",
    "print(counts_qasm_simulator)\n",
    "plot_histogram(counts_qasm_simulator)\n",
    "None"
   ]
  },
  {
   "cell_type": "code",
   "execution_count": 14,
   "id": "0eecc4cd",
   "metadata": {},
   "outputs": [
    {
     "name": "stdout",
     "output_type": "stream",
     "text": [
      "Job Status: job has successfully run\n",
      "{'00': 59, '01': 549, '10': 34, '11': 382}\n"
     ]
    },
    {
     "data": {
      "image/png": "[encoded data removed]",
      "text/plain": [
       "<Figure size 504x360 with 1 Axes>"
      ]
     },
     "metadata": {
      "needs_background": "light"
     },
     "output_type": "display_data"
    }
   ],
   "source": [
    "counts_quantum_device = ewl_fixed.run()\n",
    "print(counts_quantum_device)\n",
    "plot_histogram(counts_quantum_device)\n",
    "None"
   ]
  },
  {
   "cell_type": "code",
   "execution_count": 15,
   "id": "f7ee1ad4",
   "metadata": {},
   "outputs": [
    {
     "data": {
      "image/png": "[encoded data removed]",
      "text/plain": [
       "<Figure size 504x360 with 1 Axes>"
      ]
     },
     "metadata": {
      "needs_background": "light"
     },
     "output_type": "display_data"
    }
   ],
   "source": [
    "plot_histogram(data=[counts_qasm_simulator, counts_quantum_device],\n",
    "               legend=['qasm simulator', 'quantum device'])\n",
    "None"
   ]
  }
 ],
 "metadata": {
  "kernelspec": {
   "display_name": "Python 3",
   "language": "python",
   "name": "python3"
  },
  "language_info": {
   "codemirror_mode": {
    "name": "ipython",
    "version": 3
   },
   "file_extension": ".py",
   "mimetype": "text/x-python",
   "name": "python",
   "nbconvert_exporter": "python",
   "pygments_lexer": "ipython3",
   "version": "3.8.5"
  }
 },
 "nbformat": 4,
 "nbformat_minor": 5
}
